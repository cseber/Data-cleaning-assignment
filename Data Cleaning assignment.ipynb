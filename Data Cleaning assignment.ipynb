{
 "cells": [
  {
   "cell_type": "code",
   "execution_count": 157,
   "metadata": {},
   "outputs": [],
   "source": [
    "import numpy as np\n",
    "import pandas as pd\n",
    "import matplotlib.pyplot as plt\n",
    "import seaborn as sns\n",
    "import re\n",
    "%matplotlib inline"
   ]
  },
  {
   "cell_type": "code",
   "execution_count": 158,
   "metadata": {},
   "outputs": [],
   "source": [
    "df = pd.read_csv('data cleaning assignment')"
   ]
  },
  {
   "cell_type": "code",
   "execution_count": 159,
   "metadata": {},
   "outputs": [],
   "source": [
    "df.dropna(axis=0, subset=['Journal title'], inplace=True) \n",
    "#Dropped one row, because journal title was missing.\n",
    "#There were no other Journals from the publisher, so replacing the space with the most common title was not possible."
   ]
  },
  {
   "cell_type": "code",
   "execution_count": 160,
   "metadata": {},
   "outputs": [],
   "source": [
    "df['Journal title'] = df['Journal title'].str.upper()\n",
    "df['Journal title'] = df['Journal title'].str.strip()\n",
    "df['Publisher'] = df['Publisher'].str.upper()\n",
    "df['Publisher'] = df['Publisher'].str.strip()\n",
    "df['Article title'] = df['Article title'].str.upper()\n",
    "df['Article title'] = df['Article title'].str.strip()\n",
    "\n",
    "\n",
    "def clean_plos(journal): \n",
    "    # Search for Journal titles with PLOS \n",
    "    if re.search('PLOS.*', journal): \n",
    "          # return the cleaned name \n",
    "        return 'PLOS'\n",
    "    else: \n",
    "        # if clean up not needed return the same name \n",
    "        return journal\n",
    "df['Journal title'] = df['Journal title'].apply(clean_plos)"
   ]
  },
  {
   "cell_type": "code",
   "execution_count": 161,
   "metadata": {},
   "outputs": [],
   "source": [
    "#Clean all variations of \"JOURNAL OF BIOLOGICAL CHEMISTRY\"\n",
    "df['Journal title'] = df['Journal title'].replace('THE JOURNAL OF BIOLOGICAL CHEMISTRY', 'JOURNAL OF BIOLOGICAL CHEMISTRY')\n",
    "df['Journal title'] = df['Journal title'].replace('J BIOL CHEM.', 'JOURNAL OF BIOLOGICAL CHEMISTRY')\n",
    "df['Journal title'] = df['Journal title'].replace('JNL BIOLOGICAL CHEMISTRY', 'JOURNAL OF BIOLOGICAL CHEMISTRY')\n",
    "df['Journal title'] = df['Journal title'].replace('J BIOL CHEMISTRY', 'JOURNAL OF BIOLOGICAL CHEMISTRY')\n",
    "df['Journal title'] = df['Journal title'].replace('JOURNAL BIOLOGICAL CHEMISTRY', 'JOURNAL OF BIOLOGICAL CHEMISTRY')\n",
    "df['Journal title'] = df['Journal title'].replace('JOURNAL OF BIOL CHEM', 'JOURNAL OF BIOLOGICAL CHEMISTRY')"
   ]
  },
  {
   "cell_type": "markdown",
   "metadata": {},
   "source": [
    "# Top 5 Journals"
   ]
  },
  {
   "cell_type": "code",
   "execution_count": 162,
   "metadata": {
    "scrolled": true
   },
   "outputs": [
    {
     "name": "stdout",
     "output_type": "stream",
     "text": [
      "PLOS                                               298\n",
      "JOURNAL OF BIOLOGICAL CHEMISTRY                     71\n",
      "NEUROIMAGE                                          29\n",
      "NUCLEIC ACIDS RESEARCH                              26\n",
      "PROCEEDINGS OF THE NATIONAL ACADEMY OF SCIENCES     22\n",
      "Name: Journal title, dtype: int64\n"
     ]
    }
   ],
   "source": [
    "top_5_journals = df['Journal title'].value_counts().head(5)\n",
    "print(top_5_journals)"
   ]
  },
  {
   "cell_type": "code",
   "execution_count": 163,
   "metadata": {},
   "outputs": [
    {
     "data": {
      "text/html": [
       "<div>\n",
       "<style scoped>\n",
       "    .dataframe tbody tr th:only-of-type {\n",
       "        vertical-align: middle;\n",
       "    }\n",
       "\n",
       "    .dataframe tbody tr th {\n",
       "        vertical-align: top;\n",
       "    }\n",
       "\n",
       "    .dataframe thead th {\n",
       "        text-align: right;\n",
       "    }\n",
       "</style>\n",
       "<table border=\"1\" class=\"dataframe\">\n",
       "  <thead>\n",
       "    <tr style=\"text-align: right;\">\n",
       "      <th></th>\n",
       "      <th>PMID/PMCID</th>\n",
       "      <th>Publisher</th>\n",
       "      <th>Journal title</th>\n",
       "      <th>Article title</th>\n",
       "      <th>COST (£) charged to Wellcome (inc VAT when charged)</th>\n",
       "      <th>cost_in_USD</th>\n",
       "    </tr>\n",
       "  </thead>\n",
       "  <tbody>\n",
       "    <tr>\n",
       "      <td>0</td>\n",
       "      <td>NaN</td>\n",
       "      <td>CUP</td>\n",
       "      <td>PSYCHOLOGICAL MEDICINE</td>\n",
       "      <td>REDUCED PARAHIPPOCAMPAL CORTICAL THICKNESS IN ...</td>\n",
       "      <td>£0.00</td>\n",
       "      <td>0.000</td>\n",
       "    </tr>\n",
       "    <tr>\n",
       "      <td>1</td>\n",
       "      <td>PMC3679557</td>\n",
       "      <td>ACS</td>\n",
       "      <td>BIOMACROMOLECULES</td>\n",
       "      <td>STRUCTURAL CHARACTERIZATION OF A MODEL GRAM-NE...</td>\n",
       "      <td>£2381.04</td>\n",
       "      <td>3095.352</td>\n",
       "    </tr>\n",
       "    <tr>\n",
       "      <td>2</td>\n",
       "      <td>23043264  PMC3506128</td>\n",
       "      <td>ACS</td>\n",
       "      <td>J MED CHEM</td>\n",
       "      <td>FUMAROYLAMINO-4,5-EPOXYMORPHINANS AND RELATED ...</td>\n",
       "      <td>£642.56</td>\n",
       "      <td>835.328</td>\n",
       "    </tr>\n",
       "    <tr>\n",
       "      <td>3</td>\n",
       "      <td>23438330 PMC3646402</td>\n",
       "      <td>ACS</td>\n",
       "      <td>J MED CHEM</td>\n",
       "      <td>ORVINOLS WITH MIXED KAPPA/MU OPIOID RECEPTOR A...</td>\n",
       "      <td>£669.64</td>\n",
       "      <td>870.532</td>\n",
       "    </tr>\n",
       "    <tr>\n",
       "      <td>4</td>\n",
       "      <td>23438216 PMC3601604</td>\n",
       "      <td>ACS</td>\n",
       "      <td>J ORG CHEM</td>\n",
       "      <td>REGIOSELECTIVE OPENING OF MYO-INOSITOL ORTHOES...</td>\n",
       "      <td>£685.88</td>\n",
       "      <td>891.644</td>\n",
       "    </tr>\n",
       "  </tbody>\n",
       "</table>\n",
       "</div>"
      ],
      "text/plain": [
       "              PMID/PMCID Publisher           Journal title  \\\n",
       "0                    NaN       CUP  PSYCHOLOGICAL MEDICINE   \n",
       "1             PMC3679557       ACS       BIOMACROMOLECULES   \n",
       "2  23043264  PMC3506128        ACS              J MED CHEM   \n",
       "3    23438330 PMC3646402       ACS              J MED CHEM   \n",
       "4   23438216 PMC3601604        ACS              J ORG CHEM   \n",
       "\n",
       "                                       Article title  \\\n",
       "0  REDUCED PARAHIPPOCAMPAL CORTICAL THICKNESS IN ...   \n",
       "1  STRUCTURAL CHARACTERIZATION OF A MODEL GRAM-NE...   \n",
       "2  FUMAROYLAMINO-4,5-EPOXYMORPHINANS AND RELATED ...   \n",
       "3  ORVINOLS WITH MIXED KAPPA/MU OPIOID RECEPTOR A...   \n",
       "4  REGIOSELECTIVE OPENING OF MYO-INOSITOL ORTHOES...   \n",
       "\n",
       "  COST (£) charged to Wellcome (inc VAT when charged)  cost_in_USD  \n",
       "0                                              £0.00         0.000  \n",
       "1                                           £2381.04      3095.352  \n",
       "2                                            £642.56       835.328  \n",
       "3                                            £669.64       870.532  \n",
       "4                                            £685.88       891.644  "
      ]
     },
     "execution_count": 163,
     "metadata": {},
     "output_type": "execute_result"
    }
   ],
   "source": [
    "def usd_lb_conversion(value):\n",
    "    if re.search('£', value):\n",
    "        value = value.replace('£', '')\n",
    "        value = float(value)*1.3\n",
    "    elif re.search('\\$', value):\n",
    "        value = value.replace('$', '')\n",
    "        value = float(value)\n",
    "    else:\n",
    "        value = float(value)\n",
    "    return value\n",
    "\n",
    "df['cost_in_USD'] = df['COST (£) charged to Wellcome (inc VAT when charged)'].apply(usd_lb_conversion)\n",
    "df.head()"
   ]
  },
  {
   "cell_type": "code",
   "execution_count": 164,
   "metadata": {},
   "outputs": [
    {
     "data": {
      "text/plain": [
       "1619    7800.000\n",
       "800     7488.000\n",
       "552     6240.000\n",
       "798     6240.000\n",
       "648     6240.000\n",
       "          ...   \n",
       "1677     175.877\n",
       "1469     159.003\n",
       "100       59.722\n",
       "243       12.909\n",
       "0          0.000\n",
       "Name: cost_in_USD, Length: 2077, dtype: float64"
      ]
     },
     "execution_count": 164,
     "metadata": {},
     "output_type": "execute_result"
    }
   ],
   "source": [
    "df.drop(df[df['cost_in_USD'] > 11000].index, inplace=True)\n",
    "df['cost_in_USD'].sort_values(ascending=False)"
   ]
  },
  {
   "cell_type": "code",
   "execution_count": 165,
   "metadata": {},
   "outputs": [],
   "source": [
    "df.dropna(axis=0, subset=['Article title'], inplace=True)"
   ]
  },
  {
   "cell_type": "markdown",
   "metadata": {},
   "source": [
    "# Top 5 journals cost summary"
   ]
  },
  {
   "cell_type": "code",
   "execution_count": 180,
   "metadata": {},
   "outputs": [
    {
     "data": {
      "text/html": [
       "<div>\n",
       "<style scoped>\n",
       "    .dataframe tbody tr th:only-of-type {\n",
       "        vertical-align: middle;\n",
       "    }\n",
       "\n",
       "    .dataframe tbody tr th {\n",
       "        vertical-align: top;\n",
       "    }\n",
       "\n",
       "    .dataframe thead th {\n",
       "        text-align: right;\n",
       "    }\n",
       "</style>\n",
       "<table border=\"1\" class=\"dataframe\">\n",
       "  <thead>\n",
       "    <tr style=\"text-align: right;\">\n",
       "      <th></th>\n",
       "      <th>PLOS</th>\n",
       "      <th>JOURNAL OF BIO CHEM</th>\n",
       "      <th>NEUROIMAGE</th>\n",
       "      <th>NUCLEIC ACIDS RESEARCH</th>\n",
       "      <th>PROCEEDINGS OF THE NATIONAL ACADEMY OF SCIENCES</th>\n",
       "    </tr>\n",
       "  </thead>\n",
       "  <tbody>\n",
       "    <tr>\n",
       "      <td>count</td>\n",
       "      <td>284.00</td>\n",
       "      <td>69.00</td>\n",
       "      <td>29.00</td>\n",
       "      <td>26.00</td>\n",
       "      <td>22.00</td>\n",
       "    </tr>\n",
       "    <tr>\n",
       "      <td>mean</td>\n",
       "      <td>1436.17</td>\n",
       "      <td>1801.53</td>\n",
       "      <td>2879.72</td>\n",
       "      <td>1493.70</td>\n",
       "      <td>1030.92</td>\n",
       "    </tr>\n",
       "    <tr>\n",
       "      <td>std</td>\n",
       "      <td>447.93</td>\n",
       "      <td>507.63</td>\n",
       "      <td>346.65</td>\n",
       "      <td>575.82</td>\n",
       "      <td>603.55</td>\n",
       "    </tr>\n",
       "    <tr>\n",
       "      <td>min</td>\n",
       "      <td>159.00</td>\n",
       "      <td>345.37</td>\n",
       "      <td>2271.31</td>\n",
       "      <td>923.00</td>\n",
       "      <td>268.22</td>\n",
       "    </tr>\n",
       "    <tr>\n",
       "      <td>25%</td>\n",
       "      <td>1131.17</td>\n",
       "      <td>1498.54</td>\n",
       "      <td>2730.70</td>\n",
       "      <td>1107.60</td>\n",
       "      <td>817.04</td>\n",
       "    </tr>\n",
       "    <tr>\n",
       "      <td>50%</td>\n",
       "      <td>1318.69</td>\n",
       "      <td>1708.89</td>\n",
       "      <td>3024.36</td>\n",
       "      <td>1107.60</td>\n",
       "      <td>964.66</td>\n",
       "    </tr>\n",
       "    <tr>\n",
       "      <td>75%</td>\n",
       "      <td>1814.91</td>\n",
       "      <td>2043.91</td>\n",
       "      <td>3115.54</td>\n",
       "      <td>2215.20</td>\n",
       "      <td>1020.70</td>\n",
       "    </tr>\n",
       "    <tr>\n",
       "      <td>max</td>\n",
       "      <td>2455.70</td>\n",
       "      <td>3251.39</td>\n",
       "      <td>3254.34</td>\n",
       "      <td>2839.20</td>\n",
       "      <td>3499.18</td>\n",
       "    </tr>\n",
       "  </tbody>\n",
       "</table>\n",
       "</div>"
      ],
      "text/plain": [
       "          PLOS  JOURNAL OF BIO CHEM  NEUROIMAGE  NUCLEIC ACIDS RESEARCH  \\\n",
       "count   284.00                69.00       29.00                   26.00   \n",
       "mean   1436.17              1801.53     2879.72                 1493.70   \n",
       "std     447.93               507.63      346.65                  575.82   \n",
       "min     159.00               345.37     2271.31                  923.00   \n",
       "25%    1131.17              1498.54     2730.70                 1107.60   \n",
       "50%    1318.69              1708.89     3024.36                 1107.60   \n",
       "75%    1814.91              2043.91     3115.54                 2215.20   \n",
       "max    2455.70              3251.39     3254.34                 2839.20   \n",
       "\n",
       "       PROCEEDINGS OF THE NATIONAL ACADEMY OF SCIENCES  \n",
       "count                                            22.00  \n",
       "mean                                           1030.92  \n",
       "std                                             603.55  \n",
       "min                                             268.22  \n",
       "25%                                             817.04  \n",
       "50%                                             964.66  \n",
       "75%                                            1020.70  \n",
       "max                                            3499.18  "
      ]
     },
     "execution_count": 180,
     "metadata": {},
     "output_type": "execute_result"
    }
   ],
   "source": [
    "results = pd.DataFrame()\n",
    "results['PLOS'] = round(df[df['Journal title'] == 'PLOS'].describe()['cost_in_USD'], 2)\n",
    "results['JOURNAL OF BIO CHEM'] = round(df[df['Journal title'] == 'JOURNAL OF BIOLOGICAL CHEMISTRY'].describe()['cost_in_USD'], 2)\n",
    "results['NEUROIMAGE'] = round(df[df['Journal title'] == 'NEUROIMAGE'].describe()['cost_in_USD'], 2)\n",
    "results['NUCLEIC ACIDS RESEARCH'] = round(df[df['Journal title'] == 'NUCLEIC ACIDS RESEARCH'].describe()['cost_in_USD'], 2)\n",
    "results['PROCEEDINGS OF THE NATIONAL ACADEMY OF SCIENCES'] = round(df[df['Journal title'] == 'PROCEEDINGS OF THE NATIONAL ACADEMY OF SCIENCES'].describe()['cost_in_USD'], 2)\n",
    "results"
   ]
  }
 ],
 "metadata": {
  "kernelspec": {
   "display_name": "Python 3",
   "language": "python",
   "name": "python3"
  },
  "language_info": {
   "codemirror_mode": {
    "name": "ipython",
    "version": 3
   },
   "file_extension": ".py",
   "mimetype": "text/x-python",
   "name": "python",
   "nbconvert_exporter": "python",
   "pygments_lexer": "ipython3",
   "version": "3.7.3"
  }
 },
 "nbformat": 4,
 "nbformat_minor": 2
}
